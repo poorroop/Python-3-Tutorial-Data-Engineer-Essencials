{
 "cells": [
  {
   "cell_type": "markdown",
   "metadata": {},
   "source": [
    "# Contents \n",
    "## 1. History\n",
    "## 2. Installing & Running Python\n",
    "## 3. Names & Assignment\n",
    "## 4. Sequences types: Lists, Tuples, and Strings\n",
    "## 5. Mutability"
   ]
  },
  {
   "cell_type": "code",
   "execution_count": 6,
   "metadata": {},
   "outputs": [],
   "source": [
    "#--------BLANK---------#"
   ]
  },
  {
   "cell_type": "markdown",
   "metadata": {},
   "source": [
    "# 1. History"
   ]
  },
  {
   "cell_type": "code",
   "execution_count": 7,
   "metadata": {},
   "outputs": [],
   "source": [
    "# Invented in the Netherlands, early 90s by Guido van Rossum\n",
    "# Named after Monty Python\n",
    "# Open sourced from the beginning\n",
    "# Considered a scripting language, but is much more\n",
    "# Scalable, object oriented and functional from the beginning\n",
    "# Used by Google from the beginning\n",
    "# Increasingly popular"
   ]
  },
  {
   "cell_type": "markdown",
   "metadata": {},
   "source": [
    "# 2. Installing & Running Python and IDE NoteBook"
   ]
  },
  {
   "cell_type": "code",
   "execution_count": 8,
   "metadata": {},
   "outputs": [],
   "source": [
    "# For Wondows: \n",
    "# 1. Install Python msi from the site https://www.python.org/downloads/ donwload the latest version\n",
    "# 2. Open cmd prompt(terminal) and in install pip \n",
    "#     a. Type ->    pip help      tells us if pip is already installed\n",
    "#     b. Check python is intalled by typing in the cmd-> python\n",
    "#     c. Install pip type in the cmd-> python get-pip.py  \n",
    "#     d. Verify pip is in stalled-> pip -V\n",
    "# 3. Install Jupyter Notebook IDE\n",
    "#     a. Type in the cmd to install-> pip install jupyterlab\n",
    "#     b. Tpye in the cmd to run notebook -> jupyter notebook\n"
   ]
  },
  {
   "cell_type": "markdown",
   "metadata": {},
   "source": [
    "# 3. Names and assignments"
   ]
  },
  {
   "cell_type": "code",
   "execution_count": 11,
   "metadata": {},
   "outputs": [
    {
     "name": "stdout",
     "output_type": "stream",
     "text": [
      "12\n",
      "Hello World\n"
     ]
    }
   ],
   "source": [
    "x = 34 - 23            # A comment. For numbers + - * / % are as expected\n",
    "y = 'Hello'            # Another one. First assignment to a variable creates it\n",
    "z = 3.45    \n",
    "if z == 3.45 or y == 'Hello': #Assignment is = and comparison is ==\n",
    "    x = x + 1          #Indentation matters to code meaning, \n",
    "    y = y + ' World'   #String concat. Special use of + for string concatenation and % for string formatting (as in C’s printf)\n",
    "print (x)              #The basic printing command\n",
    "print (y)"
   ]
  },
  {
   "cell_type": "code",
   "execution_count": 12,
   "metadata": {},
   "outputs": [],
   "source": [
    "# Basic Datatypes:\n",
    "\n",
    "#     Text Type:\tstr\n",
    "#     Numeric Types:\tint, float, complex\n",
    "#     Sequence Types:\tlist, tuple, range\n",
    "#     Mapping Type:\tdict\n",
    "#     Set Types:\tset\n",
    "#     Boolean Type:\tbool\n",
    "#     Binary Types:\tbytes, bytearray, memoryview"
   ]
  },
  {
   "cell_type": "code",
   "execution_count": null,
   "metadata": {},
   "outputs": [],
   "source": [
    "# White Spaces:\n",
    "\n",
    "#     Whitespace is meaningful in Python: especially indentation and placement of newlines\n",
    "#     Use a newline to end a line of code\n",
    "#     Use \\ when must go to next line prematurely\n",
    "#     No braces {} to mark blocks of code, use consistent indentation instead\n",
    "#     First line with less indentation is outside of the block\n",
    "#     First line with more indentation starts a nested block\n",
    "#     Colons start of a new block in many constructs, e.g. function definitions, then clauses"
   ]
  },
  {
   "cell_type": "code",
   "execution_count": 13,
   "metadata": {},
   "outputs": [],
   "source": [
    "# Comment:\n",
    "\n",
    "#     Start comments with #, rest of line is ignored\n",
    "#     Can include a “documentation string” as the first line of a new function or class you define\n",
    "#     Development environments, debugger, and other tools use it: it’s good style to include one\n",
    "#     def fact(n):\n",
    "#       “““fact(n) assumes n is a positive integer and returns facorial of n.”””assert(n>0)\n",
    "#     return 1 if n==1 else n*fact(n-1) "
   ]
  },
  {
   "cell_type": "code",
   "execution_count": 14,
   "metadata": {},
   "outputs": [],
   "source": [
    "# Naming Rules:\n",
    "#     Names are case sensitive and cannot start with a number.  \n",
    "#     They can contain letters, numbers, and underscores.\n",
    "#         bob  Bob  _bob  _2_bob_  bob_2  BoB\n",
    "#     There are some reserved words:\n",
    "#         and, assert, break, class, continue, def, del, elif, else, except, \n",
    "#         exec, finally, for, from, global, if, import, in, is, lambda, not, \n",
    "#         or, pass, print, raise, return, try, while"
   ]
  },
  {
   "cell_type": "code",
   "execution_count": null,
   "metadata": {},
   "outputs": [],
   "source": []
  }
 ],
 "metadata": {
  "kernelspec": {
   "display_name": "Python 3",
   "language": "python",
   "name": "python3"
  },
  "language_info": {
   "codemirror_mode": {
    "name": "ipython",
    "version": 3
   },
   "file_extension": ".py",
   "mimetype": "text/x-python",
   "name": "python",
   "nbconvert_exporter": "python",
   "pygments_lexer": "ipython3",
   "version": "3.7.8"
  }
 },
 "nbformat": 4,
 "nbformat_minor": 4
}
